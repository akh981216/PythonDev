{
 "cells": [
  {
   "cell_type": "code",
   "execution_count": 19,
   "metadata": {},
   "outputs": [
    {
     "name": "stdout",
     "output_type": "stream",
     "text": [
      "<class 'int'>\n",
      "65\n",
      "66\n",
      "1\n",
      "314.0\n",
      "314.0\n",
      "0.0314\n",
      "1.75\n",
      "1\n"
     ]
    }
   ],
   "source": [
    "i = 65 # 65를 i에 담는다가 아니라 65라는 객체가 생성\n",
    "print(type(i))\n",
    "print(ord('A')) # 인코딩 문자열을 숫자로\n",
    "print(ord('B'))\n",
    "\n",
    "chr(65)\n",
    "chr(65+25) # 디코딩 : 숫자를 문자열로\n",
    "\n",
    "a=0\n",
    "b=1\n",
    "c = a+b\n",
    "print(c)\n",
    "\n",
    "bin(ord('+'))\n",
    "\n",
    "print(3.14E2)\n",
    "print(3.14*10**2)\n",
    "print(3.14E-2)\n",
    "\n",
    "print(7/4)\n",
    "print(7//4)"
   ]
  },
  {
   "cell_type": "code",
   "execution_count": null,
   "metadata": {},
   "outputs": [],
   "source": []
  }
 ],
 "metadata": {
  "interpreter": {
   "hash": "087028b50a1727822a7f5d98a8ef6562bdc36a69a863d5e69d02ffed9969c7da"
  },
  "kernelspec": {
   "display_name": "Python 3.10.1 64-bit",
   "language": "python",
   "name": "python3"
  },
  "language_info": {
   "codemirror_mode": {
    "name": "ipython",
    "version": 3
   },
   "file_extension": ".py",
   "mimetype": "text/x-python",
   "name": "python",
   "nbconvert_exporter": "python",
   "pygments_lexer": "ipython3",
   "version": "3.10.1"
  },
  "orig_nbformat": 4
 },
 "nbformat": 4,
 "nbformat_minor": 2
}
