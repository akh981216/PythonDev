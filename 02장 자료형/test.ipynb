{
 "cells": [
  {
   "cell_type": "code",
   "execution_count": 19,
   "metadata": {},
   "outputs": [
    {
     "name": "stdout",
     "output_type": "stream",
     "text": [
      "<class 'int'>\n",
      "65\n",
      "66\n",
      "1\n",
      "314.0\n",
      "314.0\n",
      "0.0314\n",
      "1.75\n",
      "1\n"
     ]
    }
   ],
   "source": [
    "i = 65 # 65를 i에 담는다가 아니라 65라는 객체가 생성\n",
    "print(type(i))\n",
    "print(ord('A')) # 인코딩 문자열을 숫자로\n",
    "print(ord('B'))\n",
    "\n",
    "chr(65)\n",
    "chr(65+25) # 디코딩 : 숫자를 문자열로\n",
    "\n",
    "a=0\n",
    "b=1\n",
    "c = a+b\n",
    "print(c)\n",
    "\n",
    "bin(ord('+'))\n",
    "\n",
    "print(3.14E2)\n",
    "print(3.14*10**2)\n",
    "print(3.14E-2)\n",
    "\n",
    "print(7/4)\n",
    "print(7//4)"
   ]
  },
  {
   "cell_type": "code",
   "execution_count": 4,
   "metadata": {},
   "outputs": [
    {
     "name": "stdout",
     "output_type": "stream",
     "text": [
      "D:/PythonDev/name\n"
     ]
    }
   ],
   "source": [
    "path = \"D:\\\\PythonDev\\\\name\"\n",
    "path = \"D:/PythonDev/name\"\n",
    "\n",
    "print(path)"
   ]
  },
  {
   "cell_type": "code",
   "execution_count": 10,
   "metadata": {},
   "outputs": [
    {
     "name": "stdout",
     "output_type": "stream",
     "text": [
      "==================================================\n"
     ]
    }
   ],
   "source": [
    "\"❤\" * 10\n",
    "ord('A')\n",
    "ord('한')\n",
    "ord(\"❤\")   # window + ; -> 이모지\n",
    "\n",
    "chr(10084)"
   ]
  },
  {
   "cell_type": "code",
   "execution_count": 11,
   "metadata": {},
   "outputs": [
    {
     "name": "stdout",
     "output_type": "stream",
     "text": [
      "3\n"
     ]
    }
   ],
   "source": [
    "array = [1,2,3,4,5]\n",
    "print(array[2])"
   ]
  },
  {
   "cell_type": "code",
   "execution_count": 27,
   "metadata": {},
   "outputs": [
    {
     "data": {
      "text/plain": [
       "5"
      ]
     },
     "execution_count": 27,
     "metadata": {},
     "output_type": "execute_result"
    }
   ],
   "source": [
    "# 인덱싱과 슬라이싱\n",
    "#       0123456789012345678901234567890123\n",
    "text = \"Life is too short, You need Python\"\n",
    "\n",
    "text[19]\n",
    "text[-1] == text[33]\n",
    "\n",
    "# text[시작인덱스 : 끝인덱스] = 시작 <=     <끝\n",
    "text[0:3 +1]\n",
    "text[28:]\n",
    "text[:4]\n",
    "text[:]\n",
    "text\n",
    "\n",
    "li = [1 ,2 ,3 ,4 ,5]\n",
    "li[:2+1]\n",
    "li[-1]"
   ]
  },
  {
   "cell_type": "code",
   "execution_count": 35,
   "metadata": {},
   "outputs": [
    {
     "name": "stdout",
     "output_type": "stream",
     "text": [
      "영희님의 국어점수는 90점입니다.\n",
      "철수님의 국어점수는 80점입니다.\n",
      "길동님의 국어점수는 70점입니다.\n",
      "정수님의 국어점수는 89점입니다.\n",
      "존님의 국어점수는 79점입니다.\n"
     ]
    }
   ],
   "source": [
    "# 문자열 포매팅\n",
    "\n",
    "name = [\"영희\",\"철수\",\"길동\",\"정수\",\"존\"]\n",
    "subject = \"국어\"\n",
    "score = [90,80,70,89,79]\n",
    "#               0, 1, 2\n",
    "for n in range(len(name)):\n",
    "    text = \"%s님의 %s점수는 %d점입니다.\" % (name[n], subject, score[n])\n",
    "    print(text)\n",
    "    "
   ]
  },
  {
   "cell_type": "code",
   "execution_count": 36,
   "metadata": {},
   "outputs": [
    {
     "name": "stdout",
     "output_type": "stream",
     "text": [
      "영희님의 수학점수는 95점입니다.\n"
     ]
    }
   ],
   "source": [
    "# \"문자열\".format()\n",
    "name = \"영희\"\n",
    "sub = \"수학\"\n",
    "score = 95\n",
    "\n",
    "text = \"{}님의 {}점수는 {}점입니다.\".format(name, sub, score)\n",
    "print(text)"
   ]
  },
  {
   "cell_type": "code",
   "execution_count": 37,
   "metadata": {},
   "outputs": [
    {
     "name": "stdout",
     "output_type": "stream",
     "text": [
      "영희님의 수학점수는 95점입니다.\n"
     ]
    }
   ],
   "source": [
    "name = \"영희\"\n",
    "sub = \"수학\"\n",
    "score = 95\n",
    "\n",
    "text = f\"{name}님의 {sub}점수는 {score}점입니다.\"\n",
    "print(text)"
   ]
  }
 ],
 "metadata": {
  "interpreter": {
   "hash": "087028b50a1727822a7f5d98a8ef6562bdc36a69a863d5e69d02ffed9969c7da"
  },
  "kernelspec": {
   "display_name": "Python 3.10.1 64-bit",
   "language": "python",
   "name": "python3"
  },
  "language_info": {
   "codemirror_mode": {
    "name": "ipython",
    "version": 3
   },
   "file_extension": ".py",
   "mimetype": "text/x-python",
   "name": "python",
   "nbconvert_exporter": "python",
   "pygments_lexer": "ipython3",
   "version": "3.10.1"
  },
  "orig_nbformat": 4
 },
 "nbformat": 4,
 "nbformat_minor": 2
}
